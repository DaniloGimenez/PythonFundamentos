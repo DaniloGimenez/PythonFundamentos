{
 "cells": [
  {
   "cell_type": "markdown",
   "metadata": {},
   "source": [
    "# Hangman Game (Jogo da Forca)\n",
    "# Programação Orientada a Objetos"
   ]
  },
  {
   "cell_type": "markdown",
   "metadata": {},
   "source": [
    "# Função Main - Execução do Programa\n",
    "def main():\n",
    "\n",
    "    # Objeto\n",
    "    game = Hangman(rand_word())\n",
    "\n",
    "    # Enquanto o jogo não tiver terminado, print do status, solicita uma letra e faz a leitura do caracter\n",
    "\n",
    "\n",
    "    # Verifica o status do jogo\n",
    "    game.print_game_status()\n",
    "\n",
    "    # De acordo com o status, imprime mensagem na tela para o usuário\n",
    "    if game.hangman_won():\n",
    "        print ('\\nParabéns! Você venceu!!')\n",
    "    else:\n",
    "        print ('\\nGame over! Você perdeu.')\n",
    "        print ('A palavra era ' + game.word)\n",
    "\n",
    "    print ('\\nFoi bom jogar com você! Agora vá estudar!\\n')\n",
    "\n",
    "# Executa o programa\n",
    "if __name__ == \"__main__\":\n",
    "    main()"
   ]
  },
  {
   "cell_type": "code",
   "execution_count": 1,
   "metadata": {},
   "outputs": [],
   "source": [
    "# Import\n",
    "import random\n",
    "import sys\n",
    "\n",
    "if sys.version_info[0] >= 3:\n",
    "    import PySimpleGUI as sg\n",
    "else:\n",
    "    import PySimpleGUI27 as sg"
   ]
  },
  {
   "cell_type": "code",
   "execution_count": 2,
   "metadata": {},
   "outputs": [],
   "source": [
    "class Hangman():\n",
    "\n",
    "    # Metodo Construtor\n",
    "    def __init__(self, palavra):\n",
    "        self.palavra = palavra.upper()\n",
    "        self.letras_erradas = []\n",
    "        self.letras_certas = []\n",
    "        self.fracassos = 0\n",
    "\n",
    "        # Definir o layout do tabuleiro\n",
    "        self.layout = [\n",
    "                  [\n",
    "                      sg.Image(filename='imagens/forca0.png',\n",
    "                               key='_IMAGEM_', size=(320, 320))\n",
    "                  ],\n",
    "                  [\n",
    "                      sg.Text(self.hide_word()\n",
    "                              , key='_PALAVRA_', size=(48,1), justification='center')\n",
    "                  ],\n",
    "                  [\n",
    "                      sg.Text('Jogadas com erro: ' + str(self.fracassos),\n",
    "                              key='_FRACASSOS_', size=(48,1), justification='center')\n",
    "                  ],\n",
    "                  [\n",
    "                      sg.Button('Q', key='Q'),sg.Button('W', key='W'),sg.Button('E', key='E'),\n",
    "                      sg.Button('R', key='R'),sg.Button('T', key='T'),sg.Button('Y', key='Y'),\n",
    "                      sg.Button('U', key='U'),sg.Button('I', key='I'),sg.Button('O', key='O'),\n",
    "                      sg.Button('P', key='P')\n",
    "                  ],\n",
    "                  [\n",
    "                      sg.Button('A', key='A'),sg.Button('S', key='S'),sg.Button('D', key='D'),\n",
    "                      sg.Button('F', key='F'),sg.Button('G', key='G'),sg.Button('H', key='H'),\n",
    "                      sg.Button('J', key='J'),sg.Button('K', key='K'),sg.Button('L', key='L')\n",
    "                  ],\n",
    "                  [\n",
    "                      sg.Button('Z', key='Z'),sg.Button('X', key='X'),sg.Button('C', key='C'),\n",
    "                      sg.Button('V', key='V'),sg.Button('B', key='B'),sg.Button('N', key='N'),\n",
    "                      sg.Button('M', key='M')\n",
    "                  ],\n",
    "                  [\n",
    "                      sg.Button('Exit', key='Exit', )\n",
    "                  ]\n",
    "                 ]\n",
    "        # Definir a janela usando o layout do tabuleiro\n",
    "        self.window = sg.Window('Jogo da Forca').Layout(self.layout)\n",
    "\n",
    "    # Metodo para adivinhar a letra\n",
    "    def obter_proxima_letra(self):\n",
    "        # Fazer a leitura de um botao do tabuleiro\n",
    "        botao, valor = self.window.Read()\n",
    "        return botao\n",
    "\n",
    "    # Metodo para verificar se o jogo terminou\n",
    "    def game_over(self):\n",
    "        return self.jogador_ganhou() or (len(self.letras_erradas) == 6)\n",
    "\n",
    "    # Metodo para fechar o tabuleiro (tecla 'Exit' pressionada)\n",
    "    def fechar_tabuleiro(self):\n",
    "        self.window.Close()\n",
    "\n",
    "    # Metodo para verificar se o jogador venceu\n",
    "    def jogador_ganhou(self):\n",
    "        if '_' not in self.hide_word():\n",
    "            return True\n",
    "        else:\n",
    "            return False\n",
    "\n",
    "    # Metodo para não mostrar a letra no board\n",
    "    def hide_word(self):\n",
    "        result = ''\n",
    "        for letra in self.palavra:\n",
    "            if letra in self.letras_certas:\n",
    "                result += letra + ' '\n",
    "            else:\n",
    "                result += '_ '\n",
    "        return result\n",
    "\n",
    "    def atualiza_contadores(self, letra):\n",
    "        # Atualizar a lista de acertos\n",
    "        if letra in self.palavra and letra not in self.letras_certas:\n",
    "            self.letras_certas.append(letra)\n",
    "            forca.window.FindElement(letra).Update(button_color=('white', 'green'))\n",
    "        # Atualizar a lista de erros\n",
    "        elif letra not in self.palavra and letra not in self.letras_erradas:\n",
    "            self.letras_erradas.append(letra)\n",
    "            forca.window.FindElement(letra).Update(button_color=('white', 'red'))\n",
    "            forca.fracassos += 1\n",
    "\n",
    "    def atualiza_tabuleiro(self, letra):\n",
    "        # Atualizar a exibicao da palavra, com os erros e os acertos\n",
    "        forca.window.FindElement('_PALAVRA_').Update(self.hide_word())\n",
    "        forca.window.FindElement('_FRACASSOS_').Update('Jogadas com erro: ' + str(self.fracassos))\n",
    "\n",
    "        # Atualizar a exibicao da forca\n",
    "        try:\n",
    "            forca.window.FindElement('_IMAGEM_').Update('imagens/forca' + str(forca.fracassos) + '.png')\n",
    "            if fracassos == 6:\n",
    "                forca.window.FindElement('_IMAGEM_').Update('imagens/forca7.png')\n",
    "        except:\n",
    "            e = 'Exit'"
   ]
  },
  {
   "cell_type": "code",
   "execution_count": 3,
   "metadata": {},
   "outputs": [
    {
     "name": "stdout",
     "output_type": "stream",
     "text": [
      "['bola\\n', 'casa\\n', 'massa\\n', 'jabuticaba\\n', 'pindamonhangaba\\n', 'inconstitucionalissimamente']\n"
     ]
    }
   ],
   "source": [
    "with open(\"Hangman_words.txt\", \"rt\") as f:\n",
    "    print(f.readlines())"
   ]
  },
  {
   "cell_type": "code",
   "execution_count": 4,
   "metadata": {},
   "outputs": [],
   "source": [
    "# Função para ler uma palavra de forma aleatória do banco de palavras\n",
    "def palavra_aleatoria():\n",
    "    with open(\"Hangman_words.txt\", \"rt\") as f:\n",
    "        banco_palavras = f.readlines()\n",
    "    return banco_palavras[random.randint(0,len(banco_palavras))].strip()\n",
    "\n",
    "forca = Hangman(palavra_aleatoria())"
   ]
  },
  {
   "cell_type": "code",
   "execution_count": 5,
   "metadata": {},
   "outputs": [],
   "source": [
    "# Event Loop\n",
    "while not forca.game_over():\n",
    "    evento = forca.obter_proxima_letra()\n",
    "    if evento is None:\n",
    "        break\n",
    "    elif evento == 'Exit':\n",
    "        forca.fecha_tabuleiro()\n",
    "    else:\n",
    "        forca.atualiza_contadores(evento)\n",
    "        forca.atualiza_tabuleiro(evento)"
   ]
  },
  {
   "cell_type": "code",
   "execution_count": 6,
   "metadata": {},
   "outputs": [],
   "source": [
    "forca.window.Close()"
   ]
  }
 ],
 "metadata": {
  "kernelspec": {
   "display_name": "Python 3",
   "language": "python",
   "name": "python3"
  },
  "language_info": {
   "codemirror_mode": {
    "name": "ipython",
    "version": 3
   },
   "file_extension": ".py",
   "mimetype": "text/x-python",
   "name": "python",
   "nbconvert_exporter": "python",
   "pygments_lexer": "ipython3",
   "version": "3.7.1"
  }
 },
 "nbformat": 4,
 "nbformat_minor": 2
}
