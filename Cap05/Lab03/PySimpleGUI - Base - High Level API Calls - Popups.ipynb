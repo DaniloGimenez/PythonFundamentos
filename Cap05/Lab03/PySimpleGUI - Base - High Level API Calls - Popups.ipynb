{
 "cells": [
  {
   "cell_type": "code",
   "execution_count": 1,
   "metadata": {},
   "outputs": [],
   "source": [
    "import PySimpleGUI as sg"
   ]
  },
  {
   "cell_type": "code",
   "execution_count": 2,
   "metadata": {},
   "outputs": [
    {
     "data": {
      "text/plain": [
       "'OK'"
      ]
     },
     "execution_count": 2,
     "metadata": {},
     "output_type": "execute_result"
    }
   ],
   "source": [
    "sg.Popup('Popup')"
   ]
  },
  {
   "cell_type": "code",
   "execution_count": 3,
   "metadata": {},
   "outputs": [
    {
     "ename": "AttributeError",
     "evalue": "module 'PySimpleGUI' has no attribute 'PopupOk'",
     "output_type": "error",
     "traceback": [
      "\u001b[1;31m---------------------------------------------------------------------------\u001b[0m",
      "\u001b[1;31mAttributeError\u001b[0m                            Traceback (most recent call last)",
      "\u001b[1;32m<ipython-input-3-f7260a588f8a>\u001b[0m in \u001b[0;36m<module>\u001b[1;34m\u001b[0m\n\u001b[1;32m----> 1\u001b[1;33m \u001b[0msg\u001b[0m\u001b[1;33m.\u001b[0m\u001b[0mPopupOk\u001b[0m\u001b[1;33m(\u001b[0m\u001b[1;34m'PopupOk'\u001b[0m\u001b[1;33m)\u001b[0m\u001b[1;33m\u001b[0m\u001b[1;33m\u001b[0m\u001b[0m\n\u001b[0m",
      "\u001b[1;31mAttributeError\u001b[0m: module 'PySimpleGUI' has no attribute 'PopupOk'"
     ]
    }
   ],
   "source": [
    "sg.PopupOk('PopupOk') "
   ]
  },
  {
   "cell_type": "code",
   "execution_count": 4,
   "metadata": {},
   "outputs": [
    {
     "data": {
      "text/plain": [
       "'Yes'"
      ]
     },
     "execution_count": 4,
     "metadata": {},
     "output_type": "execute_result"
    }
   ],
   "source": [
    "sg.PopupYesNo('PopupYesNo')"
   ]
  },
  {
   "cell_type": "code",
   "execution_count": 5,
   "metadata": {},
   "outputs": [],
   "source": [
    "sg.PopupCancel('PopupCancel')"
   ]
  },
  {
   "cell_type": "code",
   "execution_count": 6,
   "metadata": {},
   "outputs": [
    {
     "data": {
      "text/plain": [
       "'OK'"
      ]
     },
     "execution_count": 6,
     "metadata": {},
     "output_type": "execute_result"
    }
   ],
   "source": [
    "sg.PopupOKCancel('PopupOKCancel')"
   ]
  },
  {
   "cell_type": "code",
   "execution_count": 7,
   "metadata": {},
   "outputs": [],
   "source": [
    "sg.PopupError('PopupError')"
   ]
  },
  {
   "cell_type": "code",
   "execution_count": 8,
   "metadata": {},
   "outputs": [],
   "source": [
    "sg.PopupTimed('PopupTimed')"
   ]
  },
  {
   "cell_type": "code",
   "execution_count": 9,
   "metadata": {},
   "outputs": [],
   "source": [
    "sg.PopupAutoClose('PopupAutoClose')"
   ]
  },
  {
   "cell_type": "code",
   "execution_count": 10,
   "metadata": {},
   "outputs": [
    {
     "data": {
      "text/plain": [
       "'Yes'"
      ]
     },
     "execution_count": 10,
     "metadata": {},
     "output_type": "execute_result"
    }
   ],
   "source": [
    "zen_of_python = \"Beautiful is better than ugly.\\n\\\n",
    "Explicit is better than implicit.\\n\\\n",
    "Simple is better than complex.\\n\\\n",
    "Complex is better than complicated.\\n\\\n",
    "Flat is better than nested.\\n\\\n",
    "Sparse is better than dense.\\n\\\n",
    "Readability counts.\\n\\\n",
    "Special cases aren't special enough to break the rules.\\n\\\n",
    "Although practicality beats purity.\\n\\\n",
    "Errors should never pass silently.\\n\\\n",
    "Unless explicitly silenced.\\n\\\n",
    "In the face of ambiguity, refuse the temptation to guess.\\n\\\n",
    "There should be one—and preferably only one—obvious way to do it.\\n\\\n",
    "Although that way may not be obvious at first unless you're Dutch.\\n\\\n",
    "Now is better than never.\\n\\\n",
    "Although never is often better than right now.\\n\\\n",
    "If the implementation is hard to explain, it's a bad idea.\\n\\\n",
    "If the implementation is easy to explain, it may be a good idea.\\n\\\n",
    "Namespaces are one honking great idea—let's do more of those!\"\n",
    "\n",
    "sg.PopupScrolled(zen_of_python,button_color=None, yes_no=True, auto_close=True, auto_close_duration=None, size=(None, None), location=(None, None), title=None, non_blocking=False)\n"
   ]
  },
  {
   "cell_type": "code",
   "execution_count": 11,
   "metadata": {},
   "outputs": [],
   "source": [
    "for i in range(1,10000):      \n",
    "    sg.OneLineProgressMeter('My Meter', i+1, 10000, 'key','Optional message')      "
   ]
  },
  {
   "cell_type": "code",
   "execution_count": 12,
   "metadata": {},
   "outputs": [
    {
     "data": {
      "text/plain": [
       "'OK'"
      ]
     },
     "execution_count": 12,
     "metadata": {},
     "output_type": "execute_result"
    }
   ],
   "source": [
    "text = sg.PopupGetText('Title', 'Please input something')\n",
    "sg.Popup('Results', 'The value returned from PopupGetText', text)"
   ]
  },
  {
   "cell_type": "code",
   "execution_count": 13,
   "metadata": {},
   "outputs": [
    {
     "data": {
      "text/plain": [
       "'OK'"
      ]
     },
     "execution_count": 13,
     "metadata": {},
     "output_type": "execute_result"
    }
   ],
   "source": [
    "text = sg.PopupGetFile('Please enter a file name')\n",
    "sg.Popup('Results', 'The value returned from PopupGetFile', text)"
   ]
  },
  {
   "cell_type": "code",
   "execution_count": 14,
   "metadata": {},
   "outputs": [
    {
     "data": {
      "text/plain": [
       "'OK'"
      ]
     },
     "execution_count": 14,
     "metadata": {},
     "output_type": "execute_result"
    }
   ],
   "source": [
    "text = sg.PopupGetFolder('Please enter a folder name')\n",
    "sg.Popup('Results', 'The value returned from PopupGetFolder', text)"
   ]
  },
  {
   "cell_type": "code",
   "execution_count": 15,
   "metadata": {},
   "outputs": [],
   "source": [
    "print=sg.Print\n",
    "for i in range(100):\n",
    "    print(i)"
   ]
  },
  {
   "cell_type": "code",
   "execution_count": 16,
   "metadata": {},
   "outputs": [
    {
     "data": {
      "text/plain": [
       "'Yes'"
      ]
     },
     "execution_count": 16,
     "metadata": {},
     "output_type": "execute_result"
    }
   ],
   "source": [
    "sg.PopupYesNo('PopupYesNo')"
   ]
  }
 ],
 "metadata": {
  "kernelspec": {
   "display_name": "Python 3",
   "language": "python",
   "name": "python3"
  },
  "language_info": {
   "codemirror_mode": {
    "name": "ipython",
    "version": 3
   },
   "file_extension": ".py",
   "mimetype": "text/x-python",
   "name": "python",
   "nbconvert_exporter": "python",
   "pygments_lexer": "ipython3",
   "version": "3.7.1"
  }
 },
 "nbformat": 4,
 "nbformat_minor": 2
}
