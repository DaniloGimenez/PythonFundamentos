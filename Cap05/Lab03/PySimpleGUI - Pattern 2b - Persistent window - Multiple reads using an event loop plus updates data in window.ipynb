{
 "cells": [
  {
   "cell_type": "code",
   "execution_count": 1,
   "metadata": {},
   "outputs": [],
   "source": [
    "import sys\n",
    "if sys.version_info[0] >= 3:\n",
    "    import PySimpleGUI as sg\n",
    "else:\n",
    "    import PySimpleGUI27 as sg"
   ]
  },
  {
   "cell_type": "code",
   "execution_count": 2,
   "metadata": {},
   "outputs": [],
   "source": [
    "layout = [[sg.Text('Your typed chars appear here:'), sg.Text('', key='_LINE_1_OUTPUT_') ],\n",
    "          [sg.Input(do_not_clear=True, key='_IN_')],\n",
    "          [sg.Button('Show'), sg.Button('Exit')]\n",
    "         ]"
   ]
  },
  {
   "cell_type": "code",
   "execution_count": 3,
   "metadata": {},
   "outputs": [],
   "source": [
    "window = sg.Window('Window Title').Layout(layout)"
   ]
  },
  {
   "cell_type": "code",
   "execution_count": 4,
   "metadata": {},
   "outputs": [
    {
     "name": "stdout",
     "output_type": "stream",
     "text": [
      "Exit {'_IN_': ''}\n"
     ]
    }
   ],
   "source": [
    "while True:                 # Event Loop\n",
    "  event, values = window.Read()\n",
    "  print(event, values)\n",
    "  if event is None or event == 'Exit':\n",
    "      break\n",
    "  if event == 'Show':\n",
    "      # change the \"output\" element to be the value of \"input\" element\n",
    "      window.FindElement('_LINE_1_OUTPUT_').Update(values['_IN_'])"
   ]
  },
  {
   "cell_type": "code",
   "execution_count": 5,
   "metadata": {},
   "outputs": [],
   "source": [
    "window.Close()"
   ]
  },
  {
   "cell_type": "code",
   "execution_count": null,
   "metadata": {},
   "outputs": [],
   "source": []
  }
 ],
 "metadata": {
  "kernelspec": {
   "display_name": "Python 3",
   "language": "python",
   "name": "python3"
  },
  "language_info": {
   "codemirror_mode": {
    "name": "ipython",
    "version": 3
   },
   "file_extension": ".py",
   "mimetype": "text/x-python",
   "name": "python",
   "nbconvert_exporter": "python",
   "pygments_lexer": "ipython3",
   "version": "3.7.1"
  }
 },
 "nbformat": 4,
 "nbformat_minor": 2
}
